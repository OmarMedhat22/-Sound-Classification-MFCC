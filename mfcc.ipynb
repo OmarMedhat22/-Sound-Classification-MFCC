{
 "cells": [
  {
   "cell_type": "code",
   "execution_count": 4,
   "metadata": {},
   "outputs": [],
   "source": [
    "#import os\n",
    "#import sys\n",
    "#import types\n",
    "#import noisereduce as nr\n",
    "#import pandas as pd\n",
    "import numpy as np\n",
    "import matplotlib.pyplot as plt\n",
    "import librosa.display\n",
    "import pylab\n",
    "#from io import BytesIO\n",
    "#from zipfile import ZipFile\n",
    "#from botocore.client import Config\n",
    "\n",
    "from sklearn.model_selection import train_test_split\n",
    "#from sklearn import svm\n",
    "from sklearn.metrics import accuracy_score\n",
    "#import pywt\n",
    "#from scipy.io import wavfile\n",
    "import librosa    \n",
    "import glob\n",
    "#import cv2\n",
    "#import wave\n",
    "#from scipy.fftpack import fft,fftfreq\n",
    "import tensorflow as tf\n",
    "#from tensorflow.keras.datasets import cifar10\n",
    "from tensorflow.keras.preprocessing.image import ImageDataGenerator\n",
    "from tensorflow.keras.models import Sequential\n",
    "from tensorflow.keras.layers import Dense, Dropout, Activation, Flatten\n",
    "from tensorflow.keras.layers import Conv2D, MaxPooling2D\n",
    "from keras.utils import to_categorical\n",
    "from keras import optimizers\n",
    "import keras\n",
    "\n",
    "%matplotlib inline\n"
   ]
  },
  {
   "cell_type": "code",
   "execution_count": 5,
   "metadata": {},
   "outputs": [],
   "source": [
    "audio_data = []\n",
    "labels = []\n",
    "sampling_rate = []\n",
    "file_names = []\n"
   ]
  },
  {
   "cell_type": "code",
   "execution_count": 10,
   "metadata": {},
   "outputs": [
    {
     "name": "stdout",
     "output_type": "stream",
     "text": [
      "(220000,)\n",
      "44000\n"
     ]
    }
   ],
   "source": [
    "#samplerate, data = wavfile.read(\"dataset/dog/1-30344-A.wav\")\n",
    "data, samplerate = librosa.load(\"dataset/dog/1-30344-A.wav\", sr=44000) # Downsample 44.1kHz to 8kHz\n",
    "\n",
    "print(data.shape)\n",
    "print(samplerate)\n"
   ]
  },
  {
   "cell_type": "code",
   "execution_count": 11,
   "metadata": {},
   "outputs": [
    {
     "name": "stdout",
     "output_type": "stream",
     "text": [
      "5.0\n",
      "2.2727272727272726e-05\n",
      "176000.0\n"
     ]
    }
   ],
   "source": [
    "time_sec = (len(data)/samplerate)\n",
    "step = time_sec/len(data)\n",
    "print(time_sec)\n",
    "print(step)\n",
    "i=0\n",
    "time_divion=[]\n",
    "while i<=time_sec-step:\n",
    "    \n",
    "    time_divion.append(i)\n",
    "    i=i+step\n",
    "# the fourth second step\n",
    "four_sec_step_number = (4*len(time_divion))/time_sec\n",
    "print(four_sec_step_number)"
   ]
  },
  {
   "cell_type": "code",
   "execution_count": 12,
   "metadata": {},
   "outputs": [
    {
     "name": "stdout",
     "output_type": "stream",
     "text": [
      "['004 - Baby cry', '005 - Clock tick', '006 - Person sneeze', '007 - Helicopter', '008 - Chainsaw', '009 - Rooster', '010 - Fire crackling', 'dog', 'rain', 'sea']\n",
      "the class = 004 - Baby cry, the label = 0\n",
      "the class = 005 - Clock tick, the label = 1\n",
      "the class = 006 - Person sneeze, the label = 2\n",
      "the class = 007 - Helicopter, the label = 3\n",
      "the class = 008 - Chainsaw, the label = 4\n",
      "the class = 009 - Rooster, the label = 5\n",
      "the class = 010 - Fire crackling, the label = 6\n",
      "the class = dog, the label = 7\n",
      "the class = rain, the label = 8\n",
      "the class = sea, the label = 9\n",
      "0\n"
     ]
    }
   ],
   "source": [
    "classes = []\n",
    "label_number=0\n",
    "audio_data = []\n",
    "labels = []\n",
    "sampling_rate = []\n",
    "file_names = []\n",
    "data = []\n",
    "noisy_removed=[]\n",
    "noise=[]\n",
    "for filepath in glob.iglob('dataset/*'):\n",
    "    \n",
    "    #print(filepath[9:])\n",
    "    \n",
    "    #print(filepath)\n",
    "    classes.append(filepath[8:])\n",
    "\n",
    "print(classes)\n",
    "\n",
    "for i in classes:\n",
    "    print(\"the class = \"+i+\", the label = \"+str(label_number))\n",
    "    for j in glob.iglob('dataset/'+i+'/*'):\n",
    "        #samplerate, data = wavfile.read(j)\n",
    "        y, s = librosa.load(j, sr=44000) # Downsample 44.1kHz to 8kHz\n",
    "        #reduced_noise = nr.reduce_noise(audio_clip=y, noise_clip=y, verbose=False)\n",
    "        #print(s)\n",
    "        #print(j)\n",
    "        data.append([y,label_number])\n",
    "        #noise.append(y)\n",
    "        #labels.append(label_number)\n",
    "        \n",
    "    label_number = label_number + 1\n",
    "print(len(labels))\n",
    "#print(labels)\n",
    "\n"
   ]
  },
  {
   "cell_type": "code",
   "execution_count": 13,
   "metadata": {},
   "outputs": [],
   "source": [
    "import random\n",
    "\n",
    "random.shuffle(data)\n",
    "audio_data=[]\n",
    "labels=[]\n",
    "for i,j in data:\n",
    "    audio_data.append(i)\n",
    "    labels.append(j)\n",
    "    \n"
   ]
  },
  {
   "cell_type": "code",
   "execution_count": 14,
   "metadata": {},
   "outputs": [
    {
     "name": "stdout",
     "output_type": "stream",
     "text": [
      "0\n"
     ]
    }
   ],
   "source": [
    "print(labels[0])"
   ]
  },
  {
   "cell_type": "code",
   "execution_count": 23,
   "metadata": {},
   "outputs": [],
   "source": [
    "save_path='roaster_before.jpg'\n",
    "plt.plot(time_divion[0:192000],audio_data[164][0:192000])\n",
    "#plt.show()\n",
    "plt.title('signal in real time')\n",
    "pylab.savefig(save_path, bbox_inches=None, pad_inches=0)\n",
    "pylab.close()\n",
    "#plt.plot(time_divion[0:192000],audio_data[4][0:192000])\n",
    "#plt.show()"
   ]
  },
  {
   "cell_type": "code",
   "execution_count": 39,
   "metadata": {},
   "outputs": [
    {
     "name": "stdout",
     "output_type": "stream",
     "text": [
      "(20, 430)\n",
      "0\n"
     ]
    }
   ],
   "source": [
    "example = random.randint(0,400)\n",
    "mfcc = librosa.feature.mfcc(y=audio_data[example])\n",
    "print(mfcc.shape)\n",
    "print(labels[example])"
   ]
  },
  {
   "cell_type": "code",
   "execution_count": 28,
   "metadata": {},
   "outputs": [
    {
     "data": {
      "text/plain": [
       "351"
      ]
     },
     "execution_count": 28,
     "metadata": {},
     "output_type": "execute_result"
    }
   ],
   "source": [
    "example"
   ]
  },
  {
   "cell_type": "code",
   "execution_count": 29,
   "metadata": {},
   "outputs": [
    {
     "data": {
      "text/plain": [
       "Text(0.5,1,'Mel Frequency Cepstral Coefficient')"
      ]
     },
     "execution_count": 29,
     "metadata": {},
     "output_type": "execute_result"
    },
    {
     "data": {
      "image/png": "[encoded data removed]",
      "text/plain": [
       "<Figure size 432x288 with 2 Axes>"
      ]
     },
     "metadata": {
      "needs_background": "light"
     },
     "output_type": "display_data"
    }
   ],
   "source": [
    "\n",
    "save_path = 'Rooster.jpg'\n",
    "\n",
    "plt.axis('off') # no axis\n",
    "librosa.display.specshow(mfcc)\n",
    "plt.colorbar(format='%+2.0f dB')\n",
    "plt.title('Mel Frequency Cepstral Coefficient')\n",
    "#pylab.savefig(save_path, bbox_inches=None, pad_inches=0)\n",
    "#pylab.close()"
   ]
  },
  {
   "cell_type": "code",
   "execution_count": null,
   "metadata": {},
   "outputs": [],
   "source": []
  },
  {
   "cell_type": "code",
   "execution_count": 40,
   "metadata": {},
   "outputs": [
    {
     "name": "stdout",
     "output_type": "stream",
     "text": [
      "0\n",
      "(8580, 1)\n",
      "(8580, 1)\n",
      "(8540, 1)\n",
      "100\n",
      "(8540, 1)\n",
      "(8560, 1)\n",
      "200\n",
      "(8580, 1)\n",
      "300\n",
      "(8540, 1)\n",
      "(8540, 1)\n"
     ]
    },
    {
     "data": {
      "text/plain": [
       "(400, 8540, 1)"
      ]
     },
     "execution_count": 40,
     "metadata": {},
     "output_type": "execute_result"
    }
   ],
   "source": [
    "mfcc = []\n",
    "for i in range (0,400):\n",
    "    if i%100 == 0:\n",
    "        print(i)\n",
    "    mf = librosa.feature.mfcc(y=audio_data[i])\n",
    "    \n",
    "    mf=mf.reshape(-1,1)\n",
    "  \n",
    "\n",
    "    mfcc.append(mf[:8540])\n",
    "    if mf.shape[0]<8600:\n",
    "        print(mf.shape)\n",
    "    \n",
    "mfcc =np.array(mfcc) \n",
    "mfcc.shape"
   ]
  },
  {
   "cell_type": "code",
   "execution_count": 41,
   "metadata": {},
   "outputs": [
    {
     "data": {
      "text/plain": [
       "(400, 8540)"
      ]
     },
     "execution_count": 41,
     "metadata": {},
     "output_type": "execute_result"
    }
   ],
   "source": [
    "mfcc=mfcc.reshape(400,-1)\n",
    "mfcc.shape\n"
   ]
  },
  {
   "cell_type": "code",
   "execution_count": null,
   "metadata": {},
   "outputs": [],
   "source": []
  },
  {
   "cell_type": "code",
   "execution_count": 42,
   "metadata": {},
   "outputs": [
    {
     "name": "stdout",
     "output_type": "stream",
     "text": [
      "303.7246\n",
      "1.0000001\n"
     ]
    }
   ],
   "source": [
    "from sklearn.preprocessing import MinMaxScaler\n",
    "data = mfcc\n",
    "scaler = MinMaxScaler(feature_range=(0, 1))\n",
    "scaler.fit(data)\n",
    "\n",
    "\n",
    "print(np.amax(mfcc))\n",
    "\n",
    "normalized_features = scaler.transform(data)\n",
    "print(np.amax(normalized_features))"
   ]
  },
  {
   "cell_type": "code",
   "execution_count": 43,
   "metadata": {},
   "outputs": [
    {
     "data": {
      "text/plain": [
       "DecisionTreeClassifier(class_weight=None, criterion='gini', max_depth=None,\n",
       "            max_features=None, max_leaf_nodes=None,\n",
       "            min_impurity_decrease=0.0, min_impurity_split=None,\n",
       "            min_samples_leaf=1, min_samples_split=2,\n",
       "            min_weight_fraction_leaf=0.0, presort=False, random_state=None,\n",
       "            splitter='best')"
      ]
     },
     "execution_count": 43,
     "metadata": {},
     "output_type": "execute_result"
    }
   ],
   "source": [
    "from sklearn import tree\n",
    "X_train, X_test, y_train, y_test = train_test_split(normalized_features, labels, test_size=0.20, random_state=1150)\n",
    "clf = tree.DecisionTreeClassifier()\n",
    "clf.fit(X_train, y_train)"
   ]
  },
  {
   "cell_type": "code",
   "execution_count": 44,
   "metadata": {},
   "outputs": [
    {
     "name": "stdout",
     "output_type": "stream",
     "text": [
      "0.425\n"
     ]
    }
   ],
   "source": [
    "y_pred = clf.predict(X_test)\n",
    "print(accuracy_score(y_test, y_pred))"
   ]
  },
  {
   "cell_type": "code",
   "execution_count": 46,
   "metadata": {},
   "outputs": [],
   "source": [
    "features_convolution = np.reshape(normalized_features,(400,20, -1,1))"
   ]
  },
  {
   "cell_type": "code",
   "execution_count": 47,
   "metadata": {},
   "outputs": [],
   "source": [
    "y=keras.utils.to_categorical(labels, num_classes=10, dtype='float32')\n"
   ]
  },
  {
   "cell_type": "code",
   "execution_count": null,
   "metadata": {},
   "outputs": [],
   "source": []
  },
  {
   "cell_type": "code",
   "execution_count": 50,
   "metadata": {},
   "outputs": [],
   "source": [
    "model = Sequential()\n",
    "\n",
    "model.add(Conv2D(16, (3, 3), input_shape=features_convolution.shape[1:]))\n",
    "model.add(Activation('relu'))\n",
    "model.add(MaxPooling2D(pool_size=(2, 2)))\n",
    "#'''\n",
    "#model.add(Dropout(0.2))\n",
    "\n",
    "model.add(Conv2D(32, (3, 3)))\n",
    "model.add(Activation('relu'))\n",
    "model.add(MaxPooling2D(pool_size=(2, 2)))\n",
    "\n",
    "#model.add(Dropout(0.2))\n",
    "\n",
    "#'''\n",
    "#'''\n",
    "model.add(Conv2D(64, (3, 3),padding='same'))\n",
    "model.add(Activation('relu'))\n",
    "model.add(MaxPooling2D(pool_size=(2, 2)))\n",
    "#'''\n",
    "\n",
    "\n",
    "model.add(Flatten())  # this converts our 3D feature maps to 1D feature vectors\n",
    "\n",
    "#model.add(Dense(1000))#input_shape=features.shape[1:]\n",
    "model.add(Dense(64))#input_shape=features.shape[1:]\n",
    "\n",
    "model.add(Dense(10))\n",
    "model.add(Activation('softmax'))\n",
    "sgd = optimizers.SGD(lr=0.0000001, decay=1e-6, momentum=0.9, nesterov=True)\n",
    "\n",
    "model.compile(loss='categorical_crossentropy',\n",
    "              optimizer='adam',\n",
    "              metrics=['accuracy'])"
   ]
  },
  {
   "cell_type": "code",
   "execution_count": 51,
   "metadata": {},
   "outputs": [
    {
     "name": "stdout",
     "output_type": "stream",
     "text": [
      "Train on 320 samples, validate on 80 samples\n",
      "Epoch 1/20\n",
      "320/320 [==============================] - 8s 26ms/step - loss: 2.2901 - acc: 0.1281 - val_loss: 2.2221 - val_acc: 0.2625\n",
      "Epoch 2/20\n",
      "320/320 [==============================] - 3s 8ms/step - loss: 2.0493 - acc: 0.3031 - val_loss: 1.9956 - val_acc: 0.1500\n",
      "Epoch 3/20\n",
      "320/320 [==============================] - 3s 8ms/step - loss: 1.7257 - acc: 0.3938 - val_loss: 1.7125 - val_acc: 0.3375\n",
      "Epoch 4/20\n",
      "320/320 [==============================] - 3s 8ms/step - loss: 1.5708 - acc: 0.4219 - val_loss: 1.5557 - val_acc: 0.3875\n",
      "Epoch 5/20\n",
      "320/320 [==============================] - 3s 8ms/step - loss: 1.3065 - acc: 0.5188 - val_loss: 1.3943 - val_acc: 0.3875\n",
      "Epoch 6/20\n",
      "320/320 [==============================] - 3s 8ms/step - loss: 1.2428 - acc: 0.5375 - val_loss: 1.1600 - val_acc: 0.6125\n",
      "Epoch 7/20\n",
      "320/320 [==============================] - 4s 12ms/step - loss: 1.1520 - acc: 0.5844 - val_loss: 1.2631 - val_acc: 0.5125\n",
      "Epoch 8/20\n",
      "320/320 [==============================] - 4s 12ms/step - loss: 1.0551 - acc: 0.6094 - val_loss: 1.2454 - val_acc: 0.4375\n",
      "Epoch 9/20\n",
      "320/320 [==============================] - 3s 11ms/step - loss: 0.9460 - acc: 0.6594 - val_loss: 1.1983 - val_acc: 0.5125\n",
      "Epoch 10/20\n",
      "320/320 [==============================] - 3s 10ms/step - loss: 0.8177 - acc: 0.7000 - val_loss: 1.1545 - val_acc: 0.5625\n",
      "Epoch 11/20\n",
      "320/320 [==============================] - 3s 9ms/step - loss: 0.7325 - acc: 0.7094 - val_loss: 1.2785 - val_acc: 0.5125\n",
      "Epoch 12/20\n",
      "320/320 [==============================] - 3s 9ms/step - loss: 0.6843 - acc: 0.7312 - val_loss: 1.1497 - val_acc: 0.5875\n",
      "Epoch 13/20\n",
      "320/320 [==============================] - 3s 9ms/step - loss: 0.5879 - acc: 0.8094 - val_loss: 1.2021 - val_acc: 0.5500\n",
      "Epoch 14/20\n",
      "320/320 [==============================] - 3s 9ms/step - loss: 0.6670 - acc: 0.7656 - val_loss: 1.1273 - val_acc: 0.5875\n",
      "Epoch 15/20\n",
      "320/320 [==============================] - 3s 9ms/step - loss: 0.4858 - acc: 0.8438 - val_loss: 1.0780 - val_acc: 0.6375\n",
      "Epoch 16/20\n",
      "320/320 [==============================] - 3s 9ms/step - loss: 0.4472 - acc: 0.8375 - val_loss: 1.0945 - val_acc: 0.6500\n",
      "Epoch 17/20\n",
      "320/320 [==============================] - 3s 10ms/step - loss: 0.3743 - acc: 0.8875 - val_loss: 1.1472 - val_acc: 0.6125\n",
      "Epoch 18/20\n",
      "320/320 [==============================] - 3s 10ms/step - loss: 0.3082 - acc: 0.8938 - val_loss: 1.1752 - val_acc: 0.6500\n",
      "Epoch 19/20\n",
      "320/320 [==============================] - 3s 9ms/step - loss: 0.2831 - acc: 0.9219 - val_loss: 1.0520 - val_acc: 0.6875\n",
      "Epoch 20/20\n",
      "320/320 [==============================] - 3s 9ms/step - loss: 0.2492 - acc: 0.9250 - val_loss: 1.0855 - val_acc: 0.6750\n"
     ]
    }
   ],
   "source": [
    "history = model.fit(features_convolution, y,batch_size=16, epochs=40,validation_split=0.2)"
   ]
  },
  {
   "cell_type": "code",
   "execution_count": 52,
   "metadata": {},
   "outputs": [
    {
     "data": {
      "image/png": "[encoded data removed]",
      "text/plain": [
       "<Figure size 432x288 with 1 Axes>"
      ]
     },
     "metadata": {
      "needs_background": "light"
     },
     "output_type": "display_data"
    },
    {
     "data": {
      "text/plain": [
       "<Figure size 432x288 with 0 Axes>"
      ]
     },
     "metadata": {},
     "output_type": "display_data"
    }
   ],
   "source": [
    "import matplotlib.pyplot as plt\n",
    "acc = history.history['acc']\n",
    "val_acc = history.history['val_acc']\n",
    "loss = history.history['loss']\n",
    "val_loss = history.history['val_loss']\n",
    "\n",
    "epochs = range(len(acc))\n",
    "\n",
    "plt.plot(epochs, acc, 'r', label='Training accuracy')\n",
    "plt.plot(epochs, val_acc, 'b', label='Validation accuracy')\n",
    "plt.title('Training and validation accuracy')\n",
    "plt.legend(loc=0)\n",
    "plt.figure()\n",
    "\n",
    "\n",
    "plt.show()"
   ]
  },
  {
   "cell_type": "code",
   "execution_count": null,
   "metadata": {},
   "outputs": [],
   "source": []
  }
 ],
 "metadata": {
  "kernelspec": {
   "display_name": "Python 3",
   "language": "python",
   "name": "python3"
  },
  "language_info": {
   "codemirror_mode": {
    "name": "ipython",
    "version": 3
   },
   "file_extension": ".py",
   "mimetype": "text/x-python",
   "name": "python",
   "nbconvert_exporter": "python",
   "pygments_lexer": "ipython3",
   "version": "3.6.6"
  }
 },
 "nbformat": 4,
 "nbformat_minor": 2
}
